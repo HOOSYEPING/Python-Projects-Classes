{
 "cells": [
  {
   "cell_type": "markdown",
   "id": "e4601969",
   "metadata": {},
   "source": [
    "Question 1"
   ]
  },
  {
   "cell_type": "code",
   "execution_count": 8,
   "id": "e2afb133",
   "metadata": {},
   "outputs": [
    {
     "data": {
      "image/png": "[encoded data removed]",
      "text/plain": [
       "<Figure size 640x480 with 1 Axes>"
      ]
     },
     "metadata": {},
     "output_type": "display_data"
    }
   ],
   "source": [
    "#solve ODE\n",
    "#import libraries\n",
    "import numpy as np\n",
    "import scipy as sc\n",
    "import matplotlib.pyplot as plt\n",
    "\n",
    "def dydt(y,t):\n",
    "    dydt=-2*y*t\n",
    "    return dydt\n",
    "t=np.linspace(0,2) #specify interval\n",
    "y0=1 #initial condition\n",
    "\n",
    "y = sc.integrate.odeint(dydt,y0,t)\n",
    "\n",
    "#start plot the graph\n",
    "plt.figure()\n",
    "plt.plot(t,y,'r') \n",
    "plt.title('ODE') #graph title\n",
    "plt.xlabel('t')#label x axis\n",
    "plt.ylabel('y')#label y axis\n",
    "plt.show() #display the graph\n",
    "\n"
   ]
  },
  {
   "cell_type": "markdown",
   "id": "da23d7d6",
   "metadata": {},
   "source": [
    "Question 2"
   ]
  },
  {
   "cell_type": "code",
   "execution_count": 2,
   "id": "170bb650",
   "metadata": {},
   "outputs": [],
   "source": [
    "import numpy as np\n",
    "from scipy.linalg import solve"
   ]
  },
  {
   "cell_type": "code",
   "execution_count": 4,
   "id": "8624c5a9",
   "metadata": {},
   "outputs": [
    {
     "name": "stdout",
     "output_type": "stream",
     "text": [
      "[[ 4.5]\n",
      " [-7.5]\n",
      " [ 6.5]]\n"
     ]
    }
   ],
   "source": [
    "#import libraries\n",
    "import numpy as np\n",
    "import scipy as sc\n",
    "\n",
    "A=np.array([[2,4,6],[5,3,2],[7,8,9]])\n",
    "B=np.array([[18],[13],[30]])\n",
    "solution=sc.linalg.solve(A,B)\n",
    "print(solution)"
   ]
  },
  {
   "cell_type": "markdown",
   "id": "4f983f54",
   "metadata": {},
   "source": [
    "Question 3"
   ]
  },
  {
   "cell_type": "code",
   "execution_count": null,
   "id": "69919285",
   "metadata": {},
   "outputs": [],
   "source": [
    "import requests\n",
    "import matplotlib.pyplot as plt\n",
    "\n",
    "#import data source\n",
    "api_url=\"https://api.open-meteo.com/v1/forecast?latitude=2.5&longitude=112.5&hourly=temperature_2m&timezone=Asia%2FSingapore&forecast_days=1\"\n",
    "response = requests.get(api_url)\n",
    "hourly_temperature_data=response.json()\n",
    "\n",
    "try:\n",
    "    user_input=int(input(\"Enter the number of days for the forecast:\"))\n",
    "#extract the data from data source based on input \n",
    "    t= [hourly ['time'] for hourly in hourly_temperature_data['hourly'][:user_input]]\n",
    "    y= [temperature['temperature_2m']for temperature in hourly_temperature_data['hourly'][:user_input]]\n",
    "    \n",
    "#start plotting the graph       \n",
    "    plt.figure()\n",
    "    plt.plot(t,y,'r') \n",
    "    plt.title('Hourly Temperature Forecast at latitude=2.375,longitude=112.5 and elevation=272') #graph title\n",
    "    plt.tlabel('Time(hour)')#label t axis\n",
    "    plt.ylabel('Temperature(degreeCelsius)')#label y axis\n",
    "    plt.grid(True,which='both',linestyle='--',linewidth=0.5) #graph grid\n",
    "    plt.show() #display the graph\n",
    "\n",
    "except ValueError:\n",
    "    print('Please enter a number!')\n",
    "except Exception as e:\n",
    "    print(f'An error is occured:{e}')\n",
    "finally:\n",
    "    print('Please try again!')\n"
   ]
  }
 ],
 "metadata": {
  "kernelspec": {
   "display_name": "Python 3 (ipykernel)",
   "language": "python",
   "name": "python3"
  },
  "language_info": {
   "codemirror_mode": {
    "name": "ipython",
    "version": 3
   },
   "file_extension": ".py",
   "mimetype": "text/x-python",
   "name": "python",
   "nbconvert_exporter": "python",
   "pygments_lexer": "ipython3",
   "version": "3.11.5"
  }
 },
 "nbformat": 4,
 "nbformat_minor": 5
}
