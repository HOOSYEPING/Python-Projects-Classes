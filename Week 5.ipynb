{
 "cells": [
  {
   "cell_type": "markdown",
   "id": "53ce0e9a",
   "metadata": {},
   "source": [
    "# Positional Arguments:"
   ]
  },
  {
   "cell_type": "code",
   "execution_count": 12,
   "id": "2399946f",
   "metadata": {},
   "outputs": [
    {
     "name": "stdout",
     "output_type": "stream",
     "text": [
      "Alice is enrolled in Mathematics class.\n"
     ]
    }
   ],
   "source": [
    "def student_information(class_name,student_name):\n",
    "    print(student_name + \" is enrolled in \" + class_name +\" class.\")\n",
    "student_information('Mathematics','Alice')"
   ]
  },
  {
   "cell_type": "markdown",
   "id": "69a6abea",
   "metadata": {},
   "source": [
    "# Keyword Arguments:"
   ]
  },
  {
   "cell_type": "code",
   "execution_count": 24,
   "id": "8ca9682a",
   "metadata": {},
   "outputs": [
    {
     "name": "stdout",
     "output_type": "stream",
     "text": [
      "ALice is enrolled in Mathematics class. \n"
     ]
    }
   ],
   "source": [
    "def student_information(class_name,student_name):\n",
    "    print(student_name + \" is enrolled in \" + class_name + \" class. \")\n",
    "student_information(class_name='Mathematics',student_name='ALice')"
   ]
  },
  {
   "cell_type": "markdown",
   "id": "76da9cdd",
   "metadata": {},
   "source": [
    "# Default Arguments:"
   ]
  },
  {
   "cell_type": "code",
   "execution_count": 19,
   "id": "daf5e4a7",
   "metadata": {},
   "outputs": [
    {
     "name": "stdout",
     "output_type": "stream",
     "text": [
      "Student name:Lina\n",
      "Enrolled Course:Data Structures\n"
     ]
    }
   ],
   "source": [
    "def enroll_student(student_name,course='Introduction to Python'):\n",
    "    print(\"Student name:\" + student_name)\n",
    "    print(\"Enrolled Course:\" + course)\n",
    "enroll_student(student_name='Lina', course='Data Structures')"
   ]
  },
  {
   "cell_type": "markdown",
   "id": "2aae8f17",
   "metadata": {},
   "source": [
    "# Varialble-Length Arguments:*args"
   ]
  },
  {
   "cell_type": "code",
   "execution_count": 25,
   "id": "012ae6d8",
   "metadata": {},
   "outputs": [
    {
     "name": "stdout",
     "output_type": "stream",
     "text": [
      "Student:Emily\n",
      "Enrolled in:\n",
      "-Biology 101\n",
      "-Chemistry 101\n",
      "-Physics 101\n"
     ]
    }
   ],
   "source": [
    "def enroll_in_courses(student_name, *courses):\n",
    "    print(\"Student:\" + student_name)\n",
    "    print(\"Enrolled in:\")\n",
    "    for course in courses:\n",
    "        print(\"-\" + course)\n",
    "enroll_in_courses('Emily','Biology 101','Chemistry 101','Physics 101')"
   ]
  },
  {
   "cell_type": "code",
   "execution_count": null,
   "id": "2e493e29",
   "metadata": {},
   "outputs": [],
   "source": []
  }
 ],
 "metadata": {
  "kernelspec": {
   "display_name": "Python 3 (ipykernel)",
   "language": "python",
   "name": "python3"
  },
  "language_info": {
   "codemirror_mode": {
    "name": "ipython",
    "version": 3
   },
   "file_extension": ".py",
   "mimetype": "text/x-python",
   "name": "python",
   "nbconvert_exporter": "python",
   "pygments_lexer": "ipython3",
   "version": "3.11.5"
  }
 },
 "nbformat": 4,
 "nbformat_minor": 5
}
