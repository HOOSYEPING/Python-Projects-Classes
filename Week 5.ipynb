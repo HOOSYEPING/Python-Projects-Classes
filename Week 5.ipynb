{
 "cells": [
  {
   "cell_type": "markdown",
   "id": "6b2b15fb",
   "metadata": {},
   "source": [
    "# Positional Arguments:"
   ]
  },
  {
   "cell_type": "code",
   "execution_count": 1,
   "id": "b890f40d",
   "metadata": {},
   "outputs": [
    {
     "name": "stdout",
     "output_type": "stream",
     "text": [
      "dieis enrolled inMathematicsclass.\n"
     ]
    }
   ],
   "source": [
    "def student_information(class_name,student_name):\n",
    "    print(student_name + \"is enrolled in\" + class_name +\"class.\")\n",
    "student_information('Mathematics','kill meeeeee')"
   ]
  },
  {
   "cell_type": "code",
   "execution_count": null,
   "id": "2466429c",
   "metadata": {},
   "outputs": [],
   "source": []
  }
 ],
 "metadata": {
  "kernelspec": {
   "display_name": "Python 3 (ipykernel)",
   "language": "python",
   "name": "python3"
  },
  "language_info": {
   "codemirror_mode": {
    "name": "ipython",
    "version": 3
   },
   "file_extension": ".py",
   "mimetype": "text/x-python",
   "name": "python",
   "nbconvert_exporter": "python",
   "pygments_lexer": "ipython3",
   "version": "3.11.5"
  }
 },
 "nbformat": 4,
 "nbformat_minor": 5
}
