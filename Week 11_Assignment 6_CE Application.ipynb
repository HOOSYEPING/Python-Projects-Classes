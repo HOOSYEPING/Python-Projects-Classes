{
 "cells": [
  {
   "cell_type": "code",
   "execution_count": null,
   "id": "64f6b049",
   "metadata": {},
   "outputs": [],
   "source": [
    "#install thermo unit in libraries\n",
    "!pip install thermo"
   ]
  },
  {
   "cell_type": "markdown",
   "id": "1f7f2d84",
   "metadata": {},
   "source": [
    "Calculate pressure drop of pipe system consist of 2 pipe segment. You are given the following information:\n",
    "\n",
    "Fluid: Water\n",
    "Pressure: 2 bar\n",
    "Temperature: 15°C\n",
    "\n",
    "Flow Rate: 1500 L/min\n",
    "Pipe Segments:\n",
    "Pipe 1: Diameter = 100 mm\n",
    "Pipe 2: Diameter = 125 mm\n",
    "Lengths: 34 m and 67 m (including a bend)\n",
    "Elevation Difference: 22 m\n",
    "Bend Parameters: 90-degree rounded bends with a bend diameter ratio (r_d) of 1.5"
   ]
  },
  {
   "cell_type": "code",
   "execution_count": 11,
   "id": "5e317ef7",
   "metadata": {},
   "outputs": [
    {
     "data": {
      "text/html": [
       "262808.2444679967 pascal"
      ],
      "text/latex": [
       "$262808.2444679967\\ \\mathrm{pascal}$"
      ],
      "text/plain": [
       "262808.2444679967 <Unit('pascal')>"
      ]
     },
     "execution_count": 11,
     "metadata": {},
     "output_type": "execute_result"
    }
   ],
   "source": [
    "from math import *\n",
    "from fluids.units import *\n",
    "from thermo.units import Chemical #import function and libraries\n",
    "\n",
    "#define fluid properties\n",
    "water = Chemical('water', P=2*u.bar, T=15*u.degC)\n",
    "rho = water.rho\n",
    "mu = water.mu\n",
    "\n",
    "#specify parameters\n",
    "Q = 1500*u.L/u.min\n",
    "r_d = 1.5\n",
    "_, D1, _, _ = nearest_pipe(Di=100*u.mm)\n",
    "_, D2, _, _ = nearest_pipe(Di=125*u.mm)\n",
    "L1 = 34*u.m\n",
    "L2 = (22+45)*u.m\n",
    "dH = 22*u.m\n",
    "beta = D1/D2\n",
    "\n",
    "#calculate reynolds number\n",
    "V1 = Q/(pi/4*D1**2)\n",
    "V2 = Q/(pi/4*D2**2)\n",
    "Re1 = Reynolds(rho=rho, mu=mu, V=V1, D=D1)\n",
    "Re2 = Reynolds(rho=rho, mu=mu, V=V2, D=D2)\n",
    "\n",
    "#calculate friction factors\n",
    "fd1 = friction_factor(Re=Re1, eD=0.0018*u.inch/D1)\n",
    "fd2 = friction_factor(Re=Re2, eD=0.0018*u.inch/D2)\n",
    "fd = (fd1+fd2)/2\n",
    "\n",
    "#calculate pressure drop components\n",
    "dP = rho*u.gravity*dH\n",
    "\n",
    "K_D1 = bend_rounded(Di=D1, angle=90*u.degrees, fd=fd, bend_diameters=r_d)\n",
    "K_D1 += diffuser_conical(D1, D2, angle=30*u.degrees, fd=fd)\n",
    "K_D1 += K_from_f(fd=fd1, L=L1, D=D1)\n",
    "\n",
    "K_D2 = bend_rounded(Di=D2, angle=90*u.degrees, fd=fd, bend_diameters=r_d)\n",
    "K_D2 += K_from_f(fd=fd2, L=L2, D=D2)\n",
    "\n",
    "#sum up pressure drop\n",
    "dP += dP_from_K(K=K_D1, rho=rho, V=V1)\n",
    "dP += dP_from_K(K=K_D2, rho=rho, V=V2)\n",
    "dP.to(u.Pa)"
   ]
  }
 ],
 "metadata": {
  "kernelspec": {
   "display_name": "Python 3 (ipykernel)",
   "language": "python",
   "name": "python3"
  },
  "language_info": {
   "codemirror_mode": {
    "name": "ipython",
    "version": 3
   },
   "file_extension": ".py",
   "mimetype": "text/x-python",
   "name": "python",
   "nbconvert_exporter": "python",
   "pygments_lexer": "ipython3",
   "version": "3.11.5"
  }
 },
 "nbformat": 4,
 "nbformat_minor": 5
}
