{
 "cells": [
  {
   "cell_type": "code",
   "execution_count": 25,
   "id": "5f52f48e",
   "metadata": {},
   "outputs": [
    {
     "name": "stdout",
     "output_type": "stream",
     "text": [
      "Checkout Processed by Sarah Connor.\n",
      "Books Checked Out:\n",
      "-1984\n",
      "-Brave New World\n",
      "Checkout Duration:3 weeks\n",
      "Additional Checkout Details:\n",
      "-Late Fee:$0.25\n",
      "-Renewals Allowed:2\n",
      "Special Conditions For Checkout:\n",
      "-Handle with care\n"
     ]
    }
   ],
   "source": [
    "def checkout_books(librarian_name,special_conditions, *books,checkout_duration='2 weeks',**details):\n",
    "    print(\"Checkout Processed by \" +librarian_name+ \".\")\n",
    "    print(\"Books Checked Out:\")\n",
    "    for book in books:\n",
    "        print(\"-\" + book)\n",
    "    print(\"Checkout Duration:\"+ checkout_duration)\n",
    "    print(\"Additional Checkout Details:\")\n",
    "    for detail, value in details.items():\n",
    "        print(\"-\" + detail.replace('-','').title().replace('_',' ')+\":\"+ str(value))\n",
    "    print(\"Special Conditions For Checkout:\")\n",
    "    for condition in special_conditions:\n",
    "        print(\"-\"+ condition)\n",
    "checkout_books('Sarah Connor',['Handle with care'],'1984','Brave New World',checkout_duration='3 weeks',Late_Fee='$0.25',Renewals_Allowed='2')"
   ]
  },
  {
   "cell_type": "code",
   "execution_count": null,
   "id": "314bb2b1",
   "metadata": {},
   "outputs": [],
   "source": []
  }
 ],
 "metadata": {
  "kernelspec": {
   "display_name": "Python 3 (ipykernel)",
   "language": "python",
   "name": "python3"
  },
  "language_info": {
   "codemirror_mode": {
    "name": "ipython",
    "version": 3
   },
   "file_extension": ".py",
   "mimetype": "text/x-python",
   "name": "python",
   "nbconvert_exporter": "python",
   "pygments_lexer": "ipython3",
   "version": "3.11.5"
  }
 },
 "nbformat": 4,
 "nbformat_minor": 5
}
