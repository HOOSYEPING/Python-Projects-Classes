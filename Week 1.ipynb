{
 "cells": [
  {
   "cell_type": "code",
   "execution_count": 10,
   "id": "a01560fb",
   "metadata": {},
   "outputs": [
    {
     "name": "stdout",
     "output_type": "stream",
     "text": [
      "100\n",
      "No such grade in the system\n"
     ]
    }
   ],
   "source": [
    "grade = int(input())\n",
    "\n",
    "if grade == \"A\":\n",
    "    print(\"Congratulations!\")\n",
    "elif grade == \"B\":\n",
    "    print(\"Good\")\n",
    "elif grade ==\"C\":\n",
    "    print(\"Pass\")\n",
    "else:print(\"No such grade in the system\")"
   ]
  },
  {
   "cell_type": "code",
   "execution_count": 11,
   "id": "01957015",
   "metadata": {},
   "outputs": [
    {
     "name": "stdout",
     "output_type": "stream",
     "text": [
      "<class 'int'>\n"
     ]
    }
   ],
   "source": [
    "print(type(grade))"
   ]
  },
  {
   "cell_type": "code",
   "execution_count": 12,
   "id": "95a8fc2b",
   "metadata": {},
   "outputs": [
    {
     "name": "stdout",
     "output_type": "stream",
     "text": [
      "110\n"
     ]
    }
   ],
   "source": [
    "if grade == 100:\n",
    "    print(grade+10)"
   ]
  },
  {
   "cell_type": "markdown",
   "id": "c9cb5536",
   "metadata": {},
   "source": []
  }
 ],
 "metadata": {
  "kernelspec": {
   "display_name": "Python 3 (ipykernel)",
   "language": "python",
   "name": "python3"
  },
  "language_info": {
   "codemirror_mode": {
    "name": "ipython",
    "version": 3
   },
   "file_extension": ".py",
   "mimetype": "text/x-python",
   "name": "python",
   "nbconvert_exporter": "python",
   "pygments_lexer": "ipython3",
   "version": "3.11.5"
  }
 },
 "nbformat": 4,
 "nbformat_minor": 5
}
