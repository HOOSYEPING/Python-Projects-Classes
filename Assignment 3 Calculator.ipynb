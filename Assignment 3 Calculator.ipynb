{
 "cells": [
  {
   "cell_type": "code",
   "execution_count": null,
   "id": "cc5e6165",
   "metadata": {},
   "outputs": [
    {
     "name": "stdout",
     "output_type": "stream",
     "text": [
      "Pleas enter the first number :3\n",
      "Pleas enter the second number :3\n",
      "Pleas enter a mathematical operation : +-*/ *\n",
      "9.0\n",
      "Pleas enter the first number :4\n",
      "Pleas enter the second number :0\n",
      "Pleas enter a mathematical operation : +-*/ /\n",
      "Division by zero is not allowed!\n"
     ]
    }
   ],
   "source": [
    "def simple_calculator() :\n",
    "    try:\n",
    "        n1 = float(input(\"Pleas enter the first number :\"))\n",
    "        n2 = float(input(\"Pleas enter the second number :\"))\n",
    "    except ValueError:#if any error happen...\n",
    "        print(\"Please enter a valid integer!\")\n",
    "        return #start over the function again\n",
    "    \n",
    "    op = input(\"Pleas enter a mathematical operation : +-*/ \")\n",
    "    if op=='+':\n",
    "        ans= n1+n2\n",
    "    elif op=='-':\n",
    "        ans= n1-n2\n",
    "    elif op=='*':\n",
    "        ans= n1*n2\n",
    "    elif op=='/':\n",
    "        try: \n",
    "            ans= n1/n2\n",
    "        except ZeroDivisionError:\n",
    "            print(\"Division by zero is not allowed!\")\n",
    "            return\n",
    "    else:\n",
    "        ans=\"invalid operation\"\n",
    "    print (ans)\n",
    "        \n",
    "    \n",
    "while True:\n",
    "    simple_calculator()"
   ]
  },
  {
   "cell_type": "code",
   "execution_count": null,
   "id": "adf2228c",
   "metadata": {},
   "outputs": [],
   "source": []
  }
 ],
 "metadata": {
  "kernelspec": {
   "display_name": "Python 3 (ipykernel)",
   "language": "python",
   "name": "python3"
  },
  "language_info": {
   "codemirror_mode": {
    "name": "ipython",
    "version": 3
   },
   "file_extension": ".py",
   "mimetype": "text/x-python",
   "name": "python",
   "nbconvert_exporter": "python",
   "pygments_lexer": "ipython3",
   "version": "3.11.5"
  }
 },
 "nbformat": 4,
 "nbformat_minor": 5
}
